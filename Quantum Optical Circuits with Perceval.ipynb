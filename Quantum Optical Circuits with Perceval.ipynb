{
 "cells": [
  {
   "cell_type": "markdown",
   "id": "ba456ece",
   "metadata": {},
   "source": [
    "# Quandela Cloud account"
   ]
  },
  {
   "cell_type": "markdown",
   "id": "7660643a",
   "metadata": {},
   "source": [
    "Steps:\n",
    " \n",
    "   1. Go to __[QUANDELA Cloud$_{\\beta}$](https://cloud.quandela.com/webide/register)__  and create an account.\n",
    "   \n",
    "   2. Once you have an account, log in into __[QUANDELA Cloud$_{\\beta}$](https://cloud.quandela.com/webide/login)__.\n",
    "   \n",
    "   3. Go to _Tokens_ (expected to be on the top left corner menu) and click _Create New_. You need to choose the token name (e.g., _first_token_) and duration (e.g., 3 days)."
   ]
  },
  {
   "cell_type": "markdown",
   "id": "ccb5d30d",
   "metadata": {},
   "source": [
    "Set your token ID to a variable. "
   ]
  },
  {
   "cell_type": "code",
   "execution_count": 2,
   "id": "7b01027a",
   "metadata": {},
   "outputs": [],
   "source": [
    "token_qcloud = '123ABC'"
   ]
  },
  {
   "cell_type": "markdown",
   "id": "8e429c00",
   "metadata": {},
   "source": [
    "In order to get a cleaner output, the packages' warnings were disabled."
   ]
  },
  {
   "cell_type": "code",
   "execution_count": 1,
   "id": "9947e3ca",
   "metadata": {},
   "outputs": [],
   "source": [
    "import warnings\n",
    "warnings.filterwarnings(\"ignore\")"
   ]
  },
  {
   "cell_type": "markdown",
   "id": "afc7aadb",
   "metadata": {},
   "source": [
    "# Unitary matrices and Optical Circuits"
   ]
  },
  {
   "cell_type": "markdown",
   "id": "c980227f",
   "metadata": {},
   "source": [
    "Define the matrix representation of the Hadamard gate, $H$, which puts one qubit into a equal superposition."
   ]
  },
  {
   "cell_type": "code",
   "execution_count": 3,
   "id": "2db4ca6f",
   "metadata": {},
   "outputs": [],
   "source": [
    "import perceval as pcvl"
   ]
  },
  {
   "cell_type": "code",
   "execution_count": 4,
   "id": "75859654",
   "metadata": {},
   "outputs": [
    {
     "data": {
      "image/png": "[encoded data removed]",
      "text/plain": [
       "<IPython.core.display.Image object>"
      ]
     },
     "execution_count": 4,
     "metadata": {
      "image/png": {
       "height": 100,
       "width": 100
      }
     },
     "output_type": "execute_result"
    }
   ],
   "source": [
    "a = (1/2)**(1/2)\n",
    "h = a * pcvl.Matrix([[1,  1],\n",
    "                     [1, -1]])\n",
    "pcvl.pdisplay(h)"
   ]
  },
  {
   "cell_type": "markdown",
   "id": "a83ea4f5",
   "metadata": {},
   "source": [
    "Alternative way to define it."
   ]
  },
  {
   "cell_type": "code",
   "execution_count": 5,
   "id": "793adfff",
   "metadata": {},
   "outputs": [
    {
     "data": {
      "image/png": "[encoded data removed]",
      "text/plain": [
       "<IPython.core.display.Image object>"
      ]
     },
     "execution_count": 5,
     "metadata": {
      "image/png": {
       "height": 100,
       "width": 100
      }
     },
     "output_type": "execute_result"
    }
   ],
   "source": [
    "m = f\"{a} {a} \\n {a} {-a}\"\n",
    "h = pcvl.Matrix(m)\n",
    "pcvl.pdisplay(h)"
   ]
  },
  {
   "cell_type": "markdown",
   "id": "56534d68",
   "metadata": {},
   "source": [
    "Check if $H$ is a unitary gate."
   ]
  },
  {
   "cell_type": "code",
   "execution_count": 6,
   "id": "8dad8e6e",
   "metadata": {},
   "outputs": [
    {
     "data": {
      "text/plain": [
       "True"
      ]
     },
     "execution_count": 6,
     "metadata": {},
     "output_type": "execute_result"
    }
   ],
   "source": [
    "h.is_unitary()"
   ]
  },
  {
   "cell_type": "markdown",
   "id": "d1bb6d0e",
   "metadata": {},
   "source": [
    "Create and display a circuit indicating the operation by a box. Note that this gate acts on one qubit, which is mapped to two spatial modes."
   ]
  },
  {
   "cell_type": "code",
   "execution_count": 7,
   "id": "c8d5f690",
   "metadata": {},
   "outputs": [],
   "source": [
    "h_circuit = pcvl.Unitary(U=h, name='H')"
   ]
  },
  {
   "cell_type": "code",
   "execution_count": 8,
   "id": "4d0cc925",
   "metadata": {},
   "outputs": [],
   "source": [
    "from perceval.rendering.circuit import SymbSkin"
   ]
  },
  {
   "cell_type": "code",
   "execution_count": 9,
   "id": "7822d647",
   "metadata": {},
   "outputs": [
    {
     "data": {
      "image/png": "[encoded data removed]",
      "text/plain": [
       "<IPython.core.display.Image object>"
      ]
     },
     "execution_count": 9,
     "metadata": {
      "image/png": {
       "height": 300,
       "width": 300
      }
     },
     "output_type": "execute_result"
    }
   ],
   "source": [
    "pcvl.pdisplay(h_circuit, skin=SymbSkin())"
   ]
  },
  {
   "cell_type": "markdown",
   "id": "cb643e80",
   "metadata": {},
   "source": [
    "Alternative display."
   ]
  },
  {
   "cell_type": "code",
   "execution_count": 10,
   "id": "22a25de4",
   "metadata": {},
   "outputs": [],
   "source": [
    "from perceval.rendering.circuit import SymbSkin, PhysSkin"
   ]
  },
  {
   "cell_type": "code",
   "execution_count": 11,
   "id": "c33c3e35",
   "metadata": {
    "scrolled": true
   },
   "outputs": [
    {
     "data": {
      "image/png": "[encoded data removed]",
      "text/plain": [
       "<IPython.core.display.Image object>"
      ]
     },
     "execution_count": 11,
     "metadata": {
      "image/png": {
       "height": 300,
       "width": 300
      }
     },
     "output_type": "execute_result"
    }
   ],
   "source": [
    "pcvl.pdisplay(h_circuit, skin=PhysSkin())"
   ]
  },
  {
   "cell_type": "markdown",
   "id": "53fe1d1c",
   "metadata": {},
   "source": [
    "Now we need to decompose the circuit into an optical circuit."
   ]
  },
  {
   "cell_type": "code",
   "execution_count": 12,
   "id": "ac50ac32",
   "metadata": {},
   "outputs": [],
   "source": [
    "from perceval import BS, PS"
   ]
  },
  {
   "cell_type": "code",
   "execution_count": 13,
   "id": "32c20700",
   "metadata": {},
   "outputs": [
    {
     "data": {
      "image/png": "[encoded data removed]",
      "text/plain": [
       "<IPython.core.display.Image object>"
      ]
     },
     "execution_count": 13,
     "metadata": {
      "image/png": {
       "height": 500,
       "width": 500
      }
     },
     "output_type": "execute_result"
    }
   ],
   "source": [
    "h_opti_circuit = pcvl.Circuit.decomposition(\n",
    "    h,\n",
    "    BS(theta=pcvl.P('theta'), phi_tr=pcvl.P('psi')),\n",
    "    phase_shifter_fn=PS)\n",
    "\n",
    "pcvl.pdisplay(h_opti_circuit, skin=PhysSkin(), render_size=1.5)"
   ]
  },
  {
   "cell_type": "markdown",
   "id": "fb61b360",
   "metadata": {},
   "source": [
    "We can sample the circuit implementing the superposition as follows. \n",
    "Set an input Fock state, e.g, $|0,1 \\rangle$, which maps qubit $|1\\rangle$. "
   ]
  },
  {
   "cell_type": "code",
   "execution_count": 14,
   "id": "6399e04b",
   "metadata": {},
   "outputs": [
    {
     "name": "stdout",
     "output_type": "stream",
     "text": [
      "|0,1>\n"
     ]
    }
   ],
   "source": [
    "input_state = pcvl.BasicState([0, 1])\n",
    "print(input_state)"
   ]
  },
  {
   "cell_type": "markdown",
   "id": "1d6d5fbb",
   "metadata": {},
   "source": [
    "or"
   ]
  },
  {
   "cell_type": "code",
   "execution_count": 15,
   "id": "963466f6",
   "metadata": {},
   "outputs": [
    {
     "name": "stdout",
     "output_type": "stream",
     "text": [
      "|0,1>\n"
     ]
    }
   ],
   "source": [
    "input_state = pcvl.BasicState(\"|0,1>\")\n",
    "print(input_state)"
   ]
  },
  {
   "cell_type": "markdown",
   "id": "fa938fc0",
   "metadata": {},
   "source": [
    "Instantiate a backend, e.g., \"Naive\", "
   ]
  },
  {
   "cell_type": "code",
   "execution_count": 16,
   "id": "9132032c",
   "metadata": {},
   "outputs": [],
   "source": [
    "p = pcvl.Processor(\"Naive\", h_opti_circuit)\n",
    "p.with_input(input_state)"
   ]
  },
  {
   "cell_type": "markdown",
   "id": "55039b1f",
   "metadata": {},
   "source": [
    "Sample the circuit $n$ times."
   ]
  },
  {
   "cell_type": "code",
   "execution_count": 17,
   "id": "e488d9d2",
   "metadata": {},
   "outputs": [],
   "source": [
    "n = 10\n",
    "sampler = pcvl.algorithm.Sampler(p)\n",
    "samples = sampler.samples(n)"
   ]
  },
  {
   "cell_type": "code",
   "execution_count": 18,
   "id": "56017ce4",
   "metadata": {},
   "outputs": [
    {
     "data": {
      "text/plain": [
       "[|1,0>, |0,1>, |0,1>, |1,0>, |0,1>, |0,1>, |0,1>, |1,0>, |0,1>, |0,1>]"
      ]
     },
     "execution_count": 18,
     "metadata": {},
     "output_type": "execute_result"
    }
   ],
   "source": [
    "samples['results']"
   ]
  },
  {
   "cell_type": "code",
   "execution_count": 19,
   "id": "f9de5198",
   "metadata": {},
   "outputs": [
    {
     "data": {
      "image/png": "[encoded data removed]",
      "text/plain": [
       "<IPython.core.display.Image object>"
      ]
     },
     "execution_count": 19,
     "metadata": {
      "image/png": {
       "height": 130,
       "width": 130
      }
     },
     "output_type": "execute_result"
    }
   ],
   "source": [
    "distribution = sampler.probs()[\"results\"]\n",
    "pcvl.pdisplay(distribution)"
   ]
  },
  {
   "cell_type": "markdown",
   "id": "2b7ff15b",
   "metadata": {},
   "source": [
    "Measuring the state $|0,1\\rangle$ or $|1,0\\rangle$ has the same probability, as theoretically expected. \n",
    "\n",
    "Alternatively, we can create the beam splitter circuit for $H \\left( \\frac{\\pi}{2} \\right)=H$ gate and then calculate the corresponding unitary matrix."
   ]
  },
  {
   "cell_type": "code",
   "execution_count": 20,
   "id": "052d6293",
   "metadata": {},
   "outputs": [],
   "source": [
    "import perceval as pcvl\n",
    "import perceval.components.unitary_components as comp"
   ]
  },
  {
   "cell_type": "code",
   "execution_count": 21,
   "id": "d330bed7",
   "metadata": {},
   "outputs": [],
   "source": [
    "superpositon = comp.BS.H()"
   ]
  },
  {
   "cell_type": "markdown",
   "id": "b854b55e",
   "metadata": {},
   "source": [
    "Matrix and input parameters of the beam splitter matrix convention for $H(\\theta)$ gate."
   ]
  },
  {
   "cell_type": "code",
   "execution_count": 22,
   "id": "70fd9a9b",
   "metadata": {},
   "outputs": [
    {
     "data": {
      "image/png": "[encoded data removed]",
      "text/plain": [
       "<IPython.core.display.Image object>"
      ]
     },
     "execution_count": 22,
     "metadata": {
      "image/png": {
       "height": 300,
       "width": 300
      }
     },
     "output_type": "execute_result"
    }
   ],
   "source": [
    "pcvl.pdisplay(superpositon.definition())"
   ]
  },
  {
   "cell_type": "markdown",
   "id": "97b4a049",
   "metadata": {},
   "source": [
    "Default parameters."
   ]
  },
  {
   "cell_type": "code",
   "execution_count": 23,
   "id": "042f3ac9",
   "metadata": {},
   "outputs": [
    {
     "data": {
      "text/plain": [
       "[Parameter(name='theta', value=pi/2, min_v=0.0, max_v=12.566370614359172),\n",
       " Parameter(name='phi_tl', value=0, min_v=0.0, max_v=6.283185307179586),\n",
       " Parameter(name='phi_bl', value=0, min_v=0.0, max_v=6.283185307179586),\n",
       " Parameter(name='phi_tr', value=0, min_v=0.0, max_v=6.283185307179586),\n",
       " Parameter(name='phi_br', value=0, min_v=0.0, max_v=6.283185307179586)]"
      ]
     },
     "execution_count": 23,
     "metadata": {},
     "output_type": "execute_result"
    }
   ],
   "source": [
    "superpositon.get_parameters(all_params=True)"
   ]
  },
  {
   "cell_type": "markdown",
   "id": "44dd89a2",
   "metadata": {},
   "source": [
    "Display the circuit and matrix with default parameters, i.e., $H \\left( \\frac{\\pi}{2} \\right)$"
   ]
  },
  {
   "cell_type": "code",
   "execution_count": 24,
   "id": "779036b1",
   "metadata": {},
   "outputs": [
    {
     "data": {
      "image/png": "[encoded data removed]",
      "text/plain": [
       "<IPython.core.display.Image object>"
      ]
     },
     "execution_count": 24,
     "metadata": {
      "image/png": {
       "height": 400,
       "width": 400
      }
     },
     "output_type": "execute_result"
    }
   ],
   "source": [
    "pcvl.pdisplay(superpositon)"
   ]
  },
  {
   "cell_type": "code",
   "execution_count": 25,
   "id": "1a4a3e14",
   "metadata": {},
   "outputs": [
    {
     "data": {
      "image/png": "[encoded data removed]",
      "text/plain": [
       "<IPython.core.display.Image object>"
      ]
     },
     "execution_count": 25,
     "metadata": {
      "image/png": {
       "height": 100,
       "width": 100
      }
     },
     "output_type": "execute_result"
    }
   ],
   "source": [
    "pcvl.pdisplay(superpositon.compute_unitary())"
   ]
  },
  {
   "cell_type": "markdown",
   "id": "dd313bd1",
   "metadata": {},
   "source": [
    "Which is the expected matrix of $H$. Now we will implement an optical circuit that perform first the operation $H$, then the $Z$ gate, and last the $H$ gate again."
   ]
  },
  {
   "cell_type": "markdown",
   "id": "468b71d8",
   "metadata": {},
   "source": [
    "Create a circuit with 2 spatial modes (for one qubit representation)."
   ]
  },
  {
   "cell_type": "code",
   "execution_count": 26,
   "id": "33ee1d08",
   "metadata": {},
   "outputs": [],
   "source": [
    "x_circuit = pcvl.Circuit(2)"
   ]
  },
  {
   "cell_type": "markdown",
   "id": "8bd6a140",
   "metadata": {},
   "source": [
    "Create the $Z$ gate circuit from the unitary matrix representation."
   ]
  },
  {
   "cell_type": "code",
   "execution_count": 27,
   "id": "67fcc361",
   "metadata": {},
   "outputs": [],
   "source": [
    "z = pcvl.Matrix([[1,  0],\n",
    "                 [0, -1]])"
   ]
  },
  {
   "cell_type": "code",
   "execution_count": 28,
   "id": "3adaa315",
   "metadata": {},
   "outputs": [
    {
     "data": {
      "image/png": "[encoded data removed]",
      "text/plain": [
       "<IPython.core.display.Image object>"
      ]
     },
     "execution_count": 28,
     "metadata": {
      "image/png": {
       "height": 200,
       "width": 200
      }
     },
     "output_type": "execute_result"
    }
   ],
   "source": [
    "z_opti_circuit = pcvl.Circuit.decomposition(\n",
    "    z,\n",
    "    BS(theta=pcvl.P('theta'), phi_tr=pcvl.P('psi')),\n",
    "    phase_shifter_fn=PS)\n",
    "\n",
    "pcvl.pdisplay(z_opti_circuit, skin=PhysSkin(), render_size=1.5)"
   ]
  },
  {
   "cell_type": "markdown",
   "id": "367f49d9",
   "metadata": {},
   "source": [
    "Add the three operations and visualize the final circuit."
   ]
  },
  {
   "cell_type": "code",
   "execution_count": 29,
   "id": "a62872c8",
   "metadata": {},
   "outputs": [
    {
     "data": {
      "image/png": "[encoded data removed]",
      "text/plain": [
       "<IPython.core.display.Image object>"
      ]
     },
     "execution_count": 29,
     "metadata": {
      "image/png": {
       "height": 400,
       "width": 400
      }
     },
     "output_type": "execute_result"
    }
   ],
   "source": [
    "x_circuit.add(0, comp.BS.H())\n",
    "x_circuit.add(0, z_opti_circuit, merge=True)\n",
    "x_circuit.add(0, comp.BS.H())\n",
    "pcvl.pdisplay(x_circuit, skin=PhysSkin())"
   ]
  },
  {
   "cell_type": "markdown",
   "id": "3b6b01b3",
   "metadata": {},
   "source": [
    "Let us calculate the probability of the output states for the two possible qubits input: $|0 \\rangle \\rightarrow |1,0 \\rangle$ and  $|1 \\rangle \\rightarrow |0,1 \\rangle$. "
   ]
  },
  {
   "cell_type": "code",
   "execution_count": 30,
   "id": "7e2df6a9",
   "metadata": {},
   "outputs": [],
   "source": [
    "input_state_0 = pcvl.BasicState(\"|0,1>\")\n",
    "input_state_1 = pcvl.BasicState(\"|1,0>\")"
   ]
  },
  {
   "cell_type": "code",
   "execution_count": 31,
   "id": "da19f34d",
   "metadata": {},
   "outputs": [],
   "source": [
    "naive_p = pcvl.Processor(\"Naive\", x_circuit)"
   ]
  },
  {
   "cell_type": "code",
   "execution_count": 32,
   "id": "b8f06e8c",
   "metadata": {},
   "outputs": [],
   "source": [
    "results_prob = pcvl.algorithm.Analyzer(naive_p, [input_state_0, \n",
    "                                                 input_state_1], \"*\")"
   ]
  },
  {
   "cell_type": "code",
   "execution_count": 33,
   "id": "695ba7bd",
   "metadata": {},
   "outputs": [
    {
     "data": {
      "image/png": "[encoded data removed]",
      "text/plain": [
       "<IPython.core.display.Image object>"
      ]
     },
     "execution_count": 33,
     "metadata": {
      "image/png": {
       "height": 140,
       "width": 140
      }
     },
     "output_type": "execute_result"
    }
   ],
   "source": [
    "pcvl.pdisplay(results_prob)"
   ]
  },
  {
   "cell_type": "markdown",
   "id": "ae50c33e",
   "metadata": {},
   "source": [
    "As can be seen in the above table, if we input $|0 \\rangle$ we get $|1 \\rangle$ and if we input $|1 \\rangle$ we get $|0 \\rangle$, both with theoretical probability $1$, which is the behaviour of a bit flip operation, i.e., the $X$ ($NOT$) gate.  This is due to the following equality \n",
    "\n",
    "$$\\begin{equation*}\n",
    "\tHZH = \\frac{1}{\\sqrt{2}}\\begin{pmatrix}\n",
    "\t\t\t1 & 1\\\\\n",
    "\t\t\t1 & -1\n",
    "\t\\end{pmatrix} \\begin{pmatrix}\n",
    "\t\t\t1 & 0\\\\\n",
    "\t\t\t0 & -1\n",
    "\t\\end{pmatrix} \\frac{1}{\\sqrt{2}} \\begin{pmatrix}\n",
    "\t\t\t1 & 1\\\\\n",
    "\t\t\t1 & -1\n",
    "\t\\end{pmatrix} = \\begin{pmatrix}\n",
    "\t\t\t0 & 1\\\\\n",
    "\t\t\t1 & 0\n",
    "\t\\end{pmatrix} = X \\,,\n",
    "\\end{equation*}$$\n",
    "\n",
    "which always flips the computational basis state."
   ]
  },
  {
   "cell_type": "markdown",
   "id": "75f420f0",
   "metadata": {},
   "source": [
    "## Run on a quantum simulator"
   ]
  },
  {
   "cell_type": "markdown",
   "id": "c62e7e72",
   "metadata": {},
   "source": [
    "Execute the superposition circuit on backend _sim:ascella_, which simulates Quandela's qpu called _ascella_."
   ]
  },
  {
   "cell_type": "code",
   "execution_count": 34,
   "id": "f9937a1a",
   "metadata": {},
   "outputs": [],
   "source": [
    "remote_simulator = pcvl.RemoteProcessor(\"sim:ascella\", token_qcloud)"
   ]
  },
  {
   "cell_type": "code",
   "execution_count": 35,
   "id": "c57f39be",
   "metadata": {},
   "outputs": [
    {
     "data": {
      "text/plain": [
       "{'max_mode_count': 12,\n",
       " 'max_photon_count': 6,\n",
       " 'min_mode_count': 1,\n",
       " 'min_photon_count': 1}"
      ]
     },
     "execution_count": 35,
     "metadata": {},
     "output_type": "execute_result"
    }
   ],
   "source": [
    "specs = remote_simulator.specs\n",
    "specs[\"constraints\"]"
   ]
  },
  {
   "cell_type": "markdown",
   "id": "de64d8c3",
   "metadata": {},
   "source": [
    "Using this simulator the maximum number of qubits is $6$, mapped into $6$ photons and $12$ spatial modes."
   ]
  },
  {
   "cell_type": "code",
   "execution_count": 36,
   "id": "854ce14e",
   "metadata": {},
   "outputs": [],
   "source": [
    "input_state = pcvl.BasicState(\"|1,0>\")"
   ]
  },
  {
   "cell_type": "code",
   "execution_count": 37,
   "id": "830c3db7",
   "metadata": {},
   "outputs": [],
   "source": [
    "remote_simulator.set_circuit(superpositon)\n",
    "remote_simulator.with_input(input_state)"
   ]
  },
  {
   "cell_type": "code",
   "execution_count": 38,
   "id": "e0adf128",
   "metadata": {},
   "outputs": [],
   "source": [
    "from perceval.algorithm import Sampler"
   ]
  },
  {
   "cell_type": "code",
   "execution_count": 39,
   "id": "4b1cce33",
   "metadata": {},
   "outputs": [],
   "source": [
    "sampler = Sampler(remote_simulator)\n",
    "sampler.default_job_name = \"h_gate_superposition\"  "
   ]
  },
  {
   "cell_type": "markdown",
   "id": "26bfdd6e",
   "metadata": {},
   "source": [
    "Run $n$ times."
   ]
  },
  {
   "cell_type": "code",
   "execution_count": 40,
   "id": "09f8012a",
   "metadata": {},
   "outputs": [],
   "source": [
    "n = 1000\n",
    "remote_job = sampler.sample_count.execute_async(n)"
   ]
  },
  {
   "cell_type": "markdown",
   "id": "41791c53",
   "metadata": {},
   "source": [
    "Note that _.execute_async()_ allows to keep running function on this notebook while awaiting for the results. You can verify its status on __[QUANDELA Cloud$_{\\beta}$](https://cloud.quandela.com/webide/register)__ $\\rightarrow$ _Jobs_$\\rightarrow$ status. Alternative, it is possible to monitor the job status with the following code available in Perceval documentation __[Remote computing with Perceval](https://perceval.quandela.net/docs/notebooks/Remote%20computing.html)__. However, by running it you can not keep running function on this notebook until the job is done."
   ]
  },
  {
   "cell_type": "code",
   "execution_count": 41,
   "id": "9eda3f86",
   "metadata": {},
   "outputs": [],
   "source": [
    "import time\n",
    "from tqdm.notebook import tqdm"
   ]
  },
  {
   "cell_type": "code",
   "execution_count": 42,
   "id": "eb0658e1",
   "metadata": {},
   "outputs": [
    {
     "data": {
      "image/png": "[encoded data removed]",
      "text/plain": [
       "<IPython.core.display.Image object>"
      ]
     },
     "execution_count": 42,
     "metadata": {
      "image/png": {
       "height": 550,
       "width": 550
      }
     },
     "output_type": "execute_result"
    }
   ],
   "source": [
    "previous_prog = 0\n",
    "\n",
    "with tqdm(total=1, bar_format='{desc}{percentage:3.0f}%|{bar}|') as tq:\n",
    "\n",
    "    tq.set_description(f'Get {n} samples from {remote_simulator.name}')\n",
    "    \n",
    "    while not remote_job.is_complete:\n",
    "    \n",
    "        tq.update(remote_job.status.progress/100-previous_prog)\n",
    "        previous_prog = remote_job.status.progress/100\n",
    "        time.sleep(1)\n",
    "    \n",
    "    tq.update(1-previous_prog)\n",
    "    tq.close()\n",
    "\n",
    "print(f\"Job status = {remote_job.status()}\")"
   ]
  },
  {
   "cell_type": "code",
   "execution_count": 43,
   "id": "5fa26d63",
   "metadata": {},
   "outputs": [
    {
     "data": {
      "image/png": "[encoded data removed]",
      "text/plain": [
       "<IPython.core.display.Image object>"
      ]
     },
     "execution_count": 43,
     "metadata": {
      "image/png": {
       "height": 100,
       "width": 100
      }
     },
     "output_type": "execute_result"
    }
   ],
   "source": [
    "output_distribution = remote_job.get_results()['results']\n",
    "pcvl.pdisplay(output_distribution)"
   ]
  },
  {
   "cell_type": "markdown",
   "id": "5a51ef8c",
   "metadata": {},
   "source": [
    "The simulated results are numerically close to the expected theoretical equal probability of $0.5$."
   ]
  },
  {
   "cell_type": "markdown",
   "id": "8b0fe6df",
   "metadata": {},
   "source": [
    "## Run on a real quantum processor"
   ]
  },
  {
   "cell_type": "markdown",
   "id": "bca6e56d",
   "metadata": {},
   "source": [
    "Now run the $X$ identity circuit on _ascella_, a real photonic quantum chip."
   ]
  },
  {
   "cell_type": "code",
   "execution_count": 44,
   "id": "2b71afe7",
   "metadata": {},
   "outputs": [],
   "source": [
    "remote_qpu = pcvl.RemoteProcessor(\"qpu:ascella\", token_qcloud)"
   ]
  },
  {
   "cell_type": "code",
   "execution_count": 45,
   "id": "12a3c467",
   "metadata": {},
   "outputs": [
    {
     "data": {
      "text/plain": [
       "<perceval.runtime.remote_job.RemoteJob at 0x1d3f6e1d390>"
      ]
     },
     "execution_count": 45,
     "metadata": {},
     "output_type": "execute_result"
    }
   ],
   "source": [
    "input_state =  pcvl.BasicState([1, 0])\n",
    "remote_qpu.set_circuit(x_circuit)\n",
    "remote_qpu.with_input(input_state)\n",
    "\n",
    "sampler_on_qpu = Sampler(remote_qpu)\n",
    "remote_job = sampler_on_qpu.probs\n",
    "remote_job.name = \"qpu_x_gate\"\n",
    "\n",
    "remote_job.execute_async()"
   ]
  },
  {
   "cell_type": "code",
   "execution_count": 46,
   "id": "64c3b25d",
   "metadata": {},
   "outputs": [
    {
     "data": {
      "image/png": "[encoded data removed]",
      "text/plain": [
       "<IPython.core.display.Image object>"
      ]
     },
     "execution_count": 46,
     "metadata": {
      "image/png": {
       "height": 160,
       "width": 160
      }
     },
     "output_type": "execute_result"
    }
   ],
   "source": [
    "results = remote_job.get_results()\n",
    "output_distribution = results[\"results\"]\n",
    "pcvl.pdisplay(output_distribution)"
   ]
  },
  {
   "cell_type": "markdown",
   "id": "d2fe5609",
   "metadata": {},
   "source": [
    "$99.96\\%$ of the times the circuit was measured at state $|0,1 \\rangle$, i.e., it flipped the input $|0 \\rangle$ into $|1 \\rangle$, as theoretically expected. It was also measured at state  $|1,0 \\rangle\\,,$ however, the percentage is so small that, in this case, we can neglect it. For more complex circuits the errors might be significant and some efficient error-correction technique or hardware enhancement might circumvent the problem. "
   ]
  },
  {
   "cell_type": "markdown",
   "id": "16a7d592",
   "metadata": {},
   "source": [
    "It is also possible to fetch past jobs using the job id available on  __[QUANDELA Cloud$_{\\beta}$](https://cloud.quandela.com/webide/login)__ $\\rightarrow$ _Jobs_ section (expected to be the third option on the left menu). "
   ]
  },
  {
   "cell_type": "code",
   "execution_count": 47,
   "id": "9debe5cc",
   "metadata": {},
   "outputs": [],
   "source": [
    "remote_processor = pcvl.RemoteProcessor(\"sim:ascella\", token_qcloud)\n",
    "job_id = \"abc123\"\n",
    "async_job = remote_processor.resume_job(job_id)"
   ]
  },
  {
   "cell_type": "code",
   "execution_count": 48,
   "id": "25243662",
   "metadata": {
    "scrolled": false
   },
   "outputs": [
    {
     "data": {
      "image/png": "[encoded data removed]",
      "text/plain": [
       "<IPython.core.display.Image object>"
      ]
     },
     "execution_count": 48,
     "metadata": {
      "image/png": {
       "height": 140,
       "width": 140
      }
     },
     "output_type": "execute_result"
    }
   ],
   "source": [
    "pcvl.pdisplay(async_job.get_results()['results'])"
   ]
  },
  {
   "cell_type": "markdown",
   "id": "586b7cf2",
   "metadata": {},
   "source": [
    "# Optical Circuit from Gate Circuit"
   ]
  },
  {
   "cell_type": "markdown",
   "id": "cbb0bc3d",
   "metadata": {},
   "source": [
    "It is possible to convert gate model circuits created using _Qiskit_ (developed by IBM to interact with their superconducting quantum computer) into Perceval linear optical circuits. Here, we briefly explain the controlled-$NOT$ ($CNOT$) gate, which creates a quantum correlation between two qubits stronger than classical correlation (known as _entanglement_), by leveraging the identity $X=HZH$."
   ]
  },
  {
   "cell_type": "code",
   "execution_count": 49,
   "id": "3a66f2ee",
   "metadata": {},
   "outputs": [],
   "source": [
    "import qiskit"
   ]
  },
  {
   "cell_type": "code",
   "execution_count": 50,
   "id": "614609cf",
   "metadata": {},
   "outputs": [
    {
     "data": {
      "image/png": "[encoded data removed]",
      "text/plain": [
       "<IPython.core.display.Image object>"
      ]
     },
     "execution_count": 50,
     "metadata": {
      "image/png": {
       "height": 100,
       "width": 100
      }
     },
     "output_type": "execute_result"
    }
   ],
   "source": [
    "cnot_circuit = qiskit.QuantumCircuit(2)\n",
    "cnot_circuit.cnot(0, 1)\n",
    "cnot_circuit.draw(initial_state=False)"
   ]
  },
  {
   "cell_type": "markdown",
   "id": "f5a4ee26",
   "metadata": {},
   "source": [
    "The above displayed circuit shows the $CNOT$ gate circuit, where qubit $q_0$ acts as a controller of the $X(NOT)$ gate being applied or not to qubit $q_1$. If $q_0$ is set to  $|1 \\rangle\\ $, then it triggers the $X$ gate and $q_1$ is flipped. If is set to  $|0 \\rangle\\ $ does not trigger the $X$ gate. We have seen that $HZH=X$, let us define the new circuit. Note that increasing the number of gates potentially leads to higher error rates but here we want to highlight alternative implementations."
   ]
  },
  {
   "cell_type": "code",
   "execution_count": 51,
   "id": "040dca39",
   "metadata": {},
   "outputs": [
    {
     "data": {
      "image/png": "[encoded data removed]",
      "text/plain": [
       "<IPython.core.display.Image object>"
      ]
     },
     "execution_count": 51,
     "metadata": {
      "image/png": {
       "height": 140,
       "width": 140
      }
     },
     "output_type": "execute_result"
    }
   ],
   "source": [
    "cz_circuit = qiskit.QuantumCircuit(2)\n",
    "cz_circuit.h(1)\n",
    "cz_circuit.cz(0, 1)\n",
    "cz_circuit.h(1)\n",
    "cz_circuit.draw(initial_state=False)"
   ]
  },
  {
   "cell_type": "markdown",
   "id": "419f29fd",
   "metadata": {},
   "source": [
    "Now convert to a Perceval circuit."
   ]
  },
  {
   "cell_type": "code",
   "execution_count": 52,
   "id": "18532c8b",
   "metadata": {},
   "outputs": [],
   "source": [
    "from perceval.converters import QiskitConverter\n",
    "from perceval.components import catalog"
   ]
  },
  {
   "cell_type": "code",
   "execution_count": 53,
   "id": "5aeec01f",
   "metadata": {},
   "outputs": [],
   "source": [
    "qiskit_converter = QiskitConverter(catalog, backend_name=\"Naive\")\n",
    "cz_opti_circuit = qiskit_converter.convert(cz_circuit,\n",
    "                                          use_postselection=True)"
   ]
  },
  {
   "cell_type": "code",
   "execution_count": 54,
   "id": "e42c9f82",
   "metadata": {
    "scrolled": true
   },
   "outputs": [
    {
     "data": {
      "image/png": "[encoded data removed]",
      "text/plain": [
       "<IPython.core.display.Image object>"
      ]
     },
     "execution_count": 54,
     "metadata": {
      "image/png": {
       "height": 600,
       "width": 600
      }
     },
     "output_type": "execute_result"
    }
   ],
   "source": [
    "pcvl.pdisplay(cz_opti_circuit, recursive=True, render_size=0.8)"
   ]
  },
  {
   "cell_type": "markdown",
   "id": "2f98839a",
   "metadata": {},
   "source": [
    "More details are available on Perceval documentation __[Decomposing Qiskit circuits](https://perceval.quandela.net/docs/notebooks/Qiskit%20conversion.html)__"
   ]
  }
 ],
 "metadata": {
  "authors": [
   {
    "name": "Rafael Pereira da Silva"
   }
  ],
  "kernelspec": {
   "display_name": "py_perceval",
   "language": "python",
   "name": "py_perceval"
  },
  "language_info": {
   "codemirror_mode": {
    "name": "ipython",
    "version": 3
   },
   "file_extension": ".py",
   "mimetype": "text/x-python",
   "name": "python",
   "nbconvert_exporter": "python",
   "pygments_lexer": "ipython3",
   "version": "3.11.5"
  }
 },
 "nbformat": 4,
 "nbformat_minor": 5
}
